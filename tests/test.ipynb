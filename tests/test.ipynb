{
 "cells": [
  {
   "cell_type": "code",
   "execution_count": 58,
   "metadata": {},
   "outputs": [
    {
     "name": "stdout",
     "output_type": "stream",
     "text": [
      "([1, 0], [0, 1], [0, 0])\n",
      "[((0,), [1, 0]), ((1,), [0, 1]), ((2,), [0, 0])]\n",
      "((0, 1, 2), [0, 0, 0, 0, 0, 0, 0, 0])\n",
      "\n",
      "([0, 1], [0, 1], [0, 1])\n",
      "[((0,), [0, 1]), ((1,), [0, 1]), ((2,), [0, 1])]\n",
      "((0, 1, 2), [0, 0, 0, 0, 0, 0, 0, 1])\n",
      "\n",
      "([0, 0], [0, 1], [1, 0])\n",
      "[((0,), [0, 0]), ((1,), [0, 1]), ((2,), [1, 0])]\n",
      "((0, 1, 2), [0, 0, 0, 0, 0, 0, 0, 0])\n",
      "\n",
      "([0, 0], [0, 1], [1, 0])\n",
      "[((0,), [0, 0]), ((1,), [0, 1]), ((2,), [1, 0])]\n",
      "((0, 1, 2), [0, 0, 0, 0, 0, 0, 0, 0])\n",
      "\n"
     ]
    }
   ],
   "source": [
    "from functools import reduce\n",
    "\n",
    "matrix_1 = [\n",
    "    [1,0],\n",
    "    [0,1],\n",
    "    [0,0],\n",
    "    [0,0],\n",
    "]\n",
    "\n",
    "matrix_2 = [\n",
    "    [0,1],\n",
    "    [0,1],\n",
    "    [0,1],\n",
    "    [0,1],\n",
    "]\n",
    "\n",
    "matrix_3 = [\n",
    "    [0,0],\n",
    "    [0,1],\n",
    "    [1,0],\n",
    "    [1,0],\n",
    "]\n",
    "\n",
    "tensor = [matrix_1, matrix_2, matrix_3]\n",
    "\n",
    "def cartesian_prod(serie_one: list[int], serie_two: list[int]) -> list[int]:\n",
    "    idxs_one, vector_one = serie_one\n",
    "    idxs_two, vector_two = serie_two\n",
    "    result = []\n",
    "    for i in vector_one:\n",
    "        for j in vector_two:\n",
    "            result.append(i * j)\n",
    "    final = ((*idxs_one, *idxs_two), result)\n",
    "    return final\n",
    "\n",
    "for matrices in zip(*tensor):\n",
    "    print(matrices)\n",
    "    histograms = [((i,), m) for i, m in enumerate(matrices)]\n",
    "    print(histograms)\n",
    "    fila_completa = reduce(lambda x, y: cartesian_prod(x, y), histograms)\n",
    "    print(fila_completa)\n",
    "    print()\n",
    "\n"
   ]
  }
 ],
 "metadata": {
  "kernelspec": {
   "display_name": ".venv",
   "language": "python",
   "name": "python3"
  },
  "language_info": {
   "codemirror_mode": {
    "name": "ipython",
    "version": 3
   },
   "file_extension": ".py",
   "mimetype": "text/x-python",
   "name": "python",
   "nbconvert_exporter": "python",
   "pygments_lexer": "ipython3",
   "version": "3.12.3"
  }
 },
 "nbformat": 4,
 "nbformat_minor": 2
}
