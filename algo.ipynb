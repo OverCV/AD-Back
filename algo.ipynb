{
 "cells": [
  {
   "cell_type": "code",
   "execution_count": 1,
   "metadata": {},
   "outputs": [
    {
     "name": "stdout",
     "output_type": "stream",
     "text": [
      "{('A', 'B', 'C'), 'c', 'b', 'a'}\n",
      "{('A', 'B', 'C'), 'c', 'b'}\n",
      "{'b', 'a'}\n"
     ]
    }
   ],
   "source": [
    "# Escenario cuando W es texto #\n",
    "\n",
    "V0 = ['a', 'b', 'c', 'A', 'B', 'C']\n",
    "W0 = ['a']\n",
    "\n",
    "V1 = ['a', 'b', 'c', ['A', 'B', 'C']]\n",
    "\n",
    "\n",
    "# print(set(V1))\n",
    "\n",
    "V1 = [\n",
    "    i if isinstance(i, str) else tuple(i) for i in V1\n",
    "]\n",
    "\n",
    "print(set(V1))\n",
    "print(set(V1) - set(W0))\n",
    "\n",
    "# Escenario con W es lista #\n",
    "\n",
    "# V0 = ['a', 'b', 'c', ['A', 'B', 'C']]\n",
    "W1 = [['A', 'B', 'C'], 'c']\n",
    "\n",
    "print(\n",
    "    set(V1) - set([i if isinstance(i, str) else tuple(i) for i in W1])\n",
    ")\n",
    "\n",
    "# Queremos la diferencia entre V1 y W1"
   ]
  }
 ],
 "metadata": {
  "kernelspec": {
   "display_name": ".venv",
   "language": "python",
   "name": "python3"
  },
  "language_info": {
   "codemirror_mode": {
    "name": "ipython",
    "version": 3
   },
   "file_extension": ".py",
   "mimetype": "text/x-python",
   "name": "python",
   "nbconvert_exporter": "python",
   "pygments_lexer": "ipython3",
   "version": "3.12.5"
  }
 },
 "nbformat": 4,
 "nbformat_minor": 2
}
